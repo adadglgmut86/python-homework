{
 "cells": [
  {
   "cell_type": "markdown",
   "id": "47166fea-d4d1-4537-8578-d4b2f4d0c08f",
   "metadata": {},
   "source": [
    "# Module 2 Challenge: PyBank"
   ]
  },
  {
   "cell_type": "code",
   "execution_count": 11,
   "id": "a0d66026-a6d0-4be9-8c71-357a9f59cc57",
   "metadata": {},
   "outputs": [
    {
     "name": "stdout",
     "output_type": "stream",
     "text": [
      "\n",
      "Financial Analysis\n",
      "----------------------------\n",
      "Total Months: 86\n",
      "Total: $38382578\n",
      "Average Change: $-2315.12\n",
      "Greatest Increase in Profits: Feb-2012 ($1926159)\n",
      "Greatest Decrease in Profits: Sep-2013 ($-2196167)\n",
      "\n"
     ]
    }
   ],
   "source": [
    "import csv\n",
    "\n",
    "# Read the CSV file and store the data in lists\n",
    "dates = []\n",
    "profits_losses = []\n",
    "\n",
    "with open('budget_data.csv', 'r') as file:\n",
    "    reader = csv.reader(file)\n",
    "    next(reader)  # Skip the header row\n",
    "    for row in reader:\n",
    "        dates.append(row[0])\n",
    "        profits_losses.append(int(row[1]))\n",
    "\n",
    "# Calculate the total number of months\n",
    "total_months = len(dates)\n",
    "\n",
    "# Calculate the net total amount of Profit/Losses\n",
    "net_total = sum(profits_losses)\n",
    "\n",
    "# Calculate the average change in Profit/Losses\n",
    "changes = []\n",
    "for i in range(1, total_months):\n",
    "    change = profits_losses[i] - profits_losses[i - 1]\n",
    "    changes.append(change)\n",
    "    average_change = sum(changes) / len(changes)\n",
    "\n",
    "# Find the greatest increase and decrease in profits\n",
    "greatest_increase = max(changes)\n",
    "greatest_increase_date = dates[changes.index(greatest_increase) + 1]\n",
    "\n",
    "greatest_decrease = min(changes)\n",
    "greatest_decrease_date = dates[changes.index(greatest_decrease) + 1]\n",
    "\n",
    "# Format the output\n",
    "output = f\"\"\"\n",
    "Financial Analysis\n",
    "----------------------------\n",
    "Total Months: {total_months}\n",
    "Total: ${net_total}\n",
    "Average Change: ${average_change:.2f}\n",
    "Greatest Increase in Profits: {greatest_increase_date} (${greatest_increase})\n",
    "Greatest Decrease in Profits: {greatest_decrease_date} (${greatest_decrease})\n",
    "\"\"\"\n",
    "\n",
    "# Print the output\n",
    "print(output)"
   ]
  },
  {
   "cell_type": "code",
   "execution_count": null,
   "id": "19d6086a-2cdb-491f-8ce7-c99bb41808a6",
   "metadata": {},
   "outputs": [],
   "source": []
  }
 ],
 "metadata": {
  "kernelspec": {
   "display_name": "Python 3 (ipykernel)",
   "language": "python",
   "name": "python3"
  },
  "language_info": {
   "codemirror_mode": {
    "name": "ipython",
    "version": 3
   },
   "file_extension": ".py",
   "mimetype": "text/x-python",
   "name": "python",
   "nbconvert_exporter": "python",
   "pygments_lexer": "ipython3",
   "version": "3.10.9"
  }
 },
 "nbformat": 4,
 "nbformat_minor": 5
}
